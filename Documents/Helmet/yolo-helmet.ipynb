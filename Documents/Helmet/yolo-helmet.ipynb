{
 "cells": [
  {
   "cell_type": "code",
   "execution_count": 1,
   "metadata": {},
   "outputs": [],
   "source": [
    "import os\n",
    "import glob\n",
    "from tqdm import tqdm\n",
    "import xml.etree.ElementTree as ET\n",
    "import json"
   ]
  },
  {
   "cell_type": "code",
   "execution_count": 11,
   "metadata": {},
   "outputs": [],
   "source": [
    "root_dir = \"/home/islandz/Documents/Helmet\"\n",
    "img_dir = os.path.join(root_dir, \"images\")\n",
    "annot_dir = os.path.join(root_dir,\"annotations\")\n",
    "label_dir = os.path.join(root_dir,\"labels\")"
   ]
  },
  {
   "cell_type": "code",
   "execution_count": 5,
   "metadata": {},
   "outputs": [
    {
     "data": {
      "text/plain": [
       "5000"
      ]
     },
     "execution_count": 5,
     "metadata": {},
     "output_type": "execute_result"
    }
   ],
   "source": [
    "data = glob.glob(os.path.join(img_dir,\"*.png\"))\n",
    "len(data)"
   ]
  },
  {
   "cell_type": "code",
   "execution_count": 6,
   "metadata": {},
   "outputs": [],
   "source": [
    "train = data[:4000]\n",
    "valid = data[4000:4500]\n",
    "test = data[4500:]"
   ]
  },
  {
   "cell_type": "code",
   "execution_count": 9,
   "metadata": {},
   "outputs": [],
   "source": [
    "with open(os.path.join(root_dir, \"train.txt\"), 'w') as f:\n",
    "\tf.write('\\n'.join(train) + '\\n')\n",
    "\n",
    "with open(os.path.join(root_dir, \"valid.txt\"), 'w') as f:\n",
    "\tf.write('\\n'.join(valid) + '\\n')\n",
    " \n",
    "with open(os.path.join(root_dir, \"test.txt\"), 'w') as f:\n",
    "\tf.write('\\n'.join(test) + '\\n')"
   ]
  },
  {
   "cell_type": "code",
   "execution_count": 10,
   "metadata": {},
   "outputs": [],
   "source": [
    "def xml_to_yolo_bbox(bbox, w, h):\n",
    "    # xmin, ymin, xmax, ymax\n",
    "    x_center = ((bbox[2] + bbox[0]) / 2) / w\n",
    "    y_center = ((bbox[3] + bbox[1]) / 2) / h\n",
    "    width = (bbox[2] - bbox[0]) / w\n",
    "    height = (bbox[3] - bbox[1]) / h\n",
    "    return [x_center, y_center, width, height]"
   ]
  },
  {
   "cell_type": "code",
   "execution_count": 12,
   "metadata": {},
   "outputs": [
    {
     "name": "stderr",
     "output_type": "stream",
     "text": [
      "100%|████████████████████████████████████| 5000/5000 [00:00<00:00, 12106.03it/s]\n"
     ]
    }
   ],
   "source": [
    "classes = []\n",
    "\n",
    "from tqdm import tqdm\n",
    "\n",
    "files = glob.glob(os.path.join(annot_dir, '*.xml'))\n",
    "for fil in tqdm(files):\n",
    "    \n",
    "    basename = os.path.basename(fil)\n",
    "    filename = os.path.splitext(basename)[0]\n",
    "    \n",
    "    result = []\n",
    "    \n",
    "    tree = ET.parse(fil)\n",
    "    root = tree.getroot()\n",
    "\n",
    "    width = int(root.find(\"size\").find(\"width\").text)\n",
    "    height = int(root.find(\"size\").find(\"height\").text)\n",
    "\n",
    "    for obj in root.findall('object'):\n",
    "        label = obj.find(\"name\").text\n",
    "        if label not in classes:\n",
    "            classes.append(label)\n",
    "        index = classes.index(label)\n",
    "        pil_bbox = [int(x.text) for x in obj.find(\"bndbox\")]\n",
    "        yolo_bbox = xml_to_yolo_bbox(pil_bbox, width, height)\n",
    "        bbox_string = \" \".join([str(x) for x in yolo_bbox])\n",
    "        result.append(f\"{index} {bbox_string}\")\n",
    "\n",
    "    if result:\n",
    "        with open(os.path.join(label_dir, f\"{filename}.txt\"), \"w\") as f:\n",
    "            f.write(\"\\n\".join(result))"
   ]
  },
  {
   "cell_type": "code",
   "execution_count": 13,
   "metadata": {},
   "outputs": [
    {
     "data": {
      "text/plain": [
       "['helmet', 'head', 'person']"
      ]
     },
     "execution_count": 13,
     "metadata": {},
     "output_type": "execute_result"
    }
   ],
   "source": [
    "classes"
   ]
  },
  {
   "cell_type": "code",
   "execution_count": 14,
   "metadata": {},
   "outputs": [],
   "source": [
    "import yaml\n",
    "\n",
    "yaml_data = {\"names\":[\"helmet\", \"head\", \"person\"], # 클래스 이름\n",
    "             \"nc\":3, # 클래스 수\n",
    "             \"path\":root_dir, # root 경로\n",
    "             \"train\":os.path.join(root_dir, \"train.txt\"), # train.txt 경로\n",
    "             \"val\":os.path.join(root_dir, \"valid.txt\"), # valid.txt 경로\n",
    "             \"test\":os.path.join(root_dir,\"test.txt\") # test.txt 경로\n",
    "             }\n",
    "\n",
    "with open(os.path.join(root_dir, \"helmet.yaml\"), \"w\") as f:\n",
    "  yaml.dump(yaml_data, f)"
   ]
  },
  {
   "cell_type": "code",
   "execution_count": 16,
   "metadata": {},
   "outputs": [
    {
     "name": "stdout",
     "output_type": "stream",
     "text": [
      "Cloning into 'yolov5'...\n",
      "remote: Enumerating objects: 14390, done.\u001b[K\n",
      "remote: Counting objects: 100% (48/48), done.\u001b[K\n",
      "remote: Compressing objects: 100% (28/28), done.\u001b[K\n",
      "remote: Total 14390 (delta 24), reused 39 (delta 20), pack-reused 14342\u001b[K\n",
      "Receiving objects: 100% (14390/14390), 13.47 MiB | 8.03 MiB/s, done.\n",
      "Resolving deltas: 100% (9923/9923), done.\n",
      "/home/islandz/Documents/Helmet/yolov5\n",
      "Note: you may need to restart the kernel to use updated packages.\n"
     ]
    }
   ],
   "source": [
    "!git clone https://github.com/ultralytics/yolov5.git\n",
    "%cd yolov5\n",
    "%pip install -qr requirements.txt # install dependencies"
   ]
  },
  {
   "cell_type": "code",
   "execution_count": 17,
   "metadata": {},
   "outputs": [
    {
     "name": "stdout",
     "output_type": "stream",
     "text": [
      "\u001b[34m\u001b[1mtrain: \u001b[0mweights=yolov5s.pt, cfg=, data=/home/islandz/Documents/Helmet/helmet.yaml, hyp=data/hyps/hyp.scratch-low.yaml, epochs=20, batch_size=64, imgsz=640, rect=False, resume=False, nosave=False, noval=False, noautoanchor=False, noplots=False, evolve=None, bucket=, cache=None, image_weights=False, device=0, multi_scale=False, single_cls=False, optimizer=SGD, sync_bn=False, workers=8, project=runs/train, name=exp, exist_ok=False, quad=False, cos_lr=False, label_smoothing=0.0, patience=100, freeze=[0], save_period=-1, seed=0, local_rank=-1, entity=None, upload_dataset=False, bbox_interval=-1, artifact_alias=latest\n",
      "\u001b[34m\u001b[1mgithub: \u001b[0mskipping check (offline), for updates see https://github.com/ultralytics/yolov5\n",
      "YOLOv5 🚀 v6.2-224-g82a5585 Python-3.9.13 torch-1.12.1 CUDA:0 (NVIDIA GeForce RTX 3090 Ti, 24248MiB)\n",
      "\n",
      "\u001b[34m\u001b[1mhyperparameters: \u001b[0mlr0=0.01, lrf=0.01, momentum=0.937, weight_decay=0.0005, warmup_epochs=3.0, warmup_momentum=0.8, warmup_bias_lr=0.1, box=0.05, cls=0.5, cls_pw=1.0, obj=1.0, obj_pw=1.0, iou_t=0.2, anchor_t=4.0, fl_gamma=0.0, hsv_h=0.015, hsv_s=0.7, hsv_v=0.4, degrees=0.0, translate=0.1, scale=0.5, shear=0.0, perspective=0.0, flipud=0.0, fliplr=0.5, mosaic=1.0, mixup=0.0, copy_paste=0.0\n",
      "\u001b[34m\u001b[1mClearML: \u001b[0mrun 'pip install clearml' to automatically track, visualize and remotely train YOLOv5 🚀 in ClearML\n",
      "\u001b[34m\u001b[1mComet: \u001b[0mrun 'pip install comet_ml' to automatically track and visualize YOLOv5 🚀 runs in Comet\n",
      "\u001b[34m\u001b[1mTensorBoard: \u001b[0mStart with 'tensorboard --logdir runs/train', view at http://localhost:6006/\n",
      "Downloading https://ultralytics.com/assets/Arial.ttf to /home/islandz/.config/Ultralytics/Arial.ttf...\n",
      "100%|████████████████████████████████████████| 755k/755k [00:00<00:00, 1.73MB/s]\n",
      "Downloading https://github.com/ultralytics/yolov5/releases/download/v6.2/yolov5s.pt to yolov5s.pt...\n",
      "100%|██████████████████████████████████████| 14.1M/14.1M [00:03<00:00, 4.62MB/s]\n",
      "\n",
      "Overriding model.yaml nc=80 with nc=3\n",
      "\n",
      "                 from  n    params  module                                  arguments                     \n",
      "  0                -1  1      3520  models.common.Conv                      [3, 32, 6, 2, 2]              \n",
      "  1                -1  1     18560  models.common.Conv                      [32, 64, 3, 2]                \n",
      "  2                -1  1     18816  models.common.C3                        [64, 64, 1]                   \n",
      "  3                -1  1     73984  models.common.Conv                      [64, 128, 3, 2]               \n",
      "  4                -1  2    115712  models.common.C3                        [128, 128, 2]                 \n",
      "  5                -1  1    295424  models.common.Conv                      [128, 256, 3, 2]              \n",
      "  6                -1  3    625152  models.common.C3                        [256, 256, 3]                 \n",
      "  7                -1  1   1180672  models.common.Conv                      [256, 512, 3, 2]              \n",
      "  8                -1  1   1182720  models.common.C3                        [512, 512, 1]                 \n",
      "  9                -1  1    656896  models.common.SPPF                      [512, 512, 5]                 \n",
      " 10                -1  1    131584  models.common.Conv                      [512, 256, 1, 1]              \n",
      " 11                -1  1         0  torch.nn.modules.upsampling.Upsample    [None, 2, 'nearest']          \n",
      " 12           [-1, 6]  1         0  models.common.Concat                    [1]                           \n",
      " 13                -1  1    361984  models.common.C3                        [512, 256, 1, False]          \n",
      " 14                -1  1     33024  models.common.Conv                      [256, 128, 1, 1]              \n",
      " 15                -1  1         0  torch.nn.modules.upsampling.Upsample    [None, 2, 'nearest']          \n",
      " 16           [-1, 4]  1         0  models.common.Concat                    [1]                           \n",
      " 17                -1  1     90880  models.common.C3                        [256, 128, 1, False]          \n",
      " 18                -1  1    147712  models.common.Conv                      [128, 128, 3, 2]              \n",
      " 19          [-1, 14]  1         0  models.common.Concat                    [1]                           \n",
      " 20                -1  1    296448  models.common.C3                        [256, 256, 1, False]          \n",
      " 21                -1  1    590336  models.common.Conv                      [256, 256, 3, 2]              \n",
      " 22          [-1, 10]  1         0  models.common.Concat                    [1]                           \n",
      " 23                -1  1   1182720  models.common.C3                        [512, 512, 1, False]          \n",
      " 24      [17, 20, 23]  1     21576  models.yolo.Detect                      [3, [[10, 13, 16, 30, 33, 23], [30, 61, 62, 45, 59, 119], [116, 90, 156, 198, 373, 326]], [128, 256, 512]]\n",
      "Model summary: 214 layers, 7027720 parameters, 7027720 gradients, 16.0 GFLOPs\n",
      "\n",
      "Transferred 343/349 items from yolov5s.pt\n",
      "\u001b[34m\u001b[1mAMP: \u001b[0mchecks passed ✅\n",
      "\u001b[34m\u001b[1moptimizer:\u001b[0m SGD(lr=0.01) with parameter groups 57 weight(decay=0.0), 60 weight(decay=0.0005), 60 bias\n",
      "\u001b[34m\u001b[1mtrain: \u001b[0mScanning '/home/islandz/Documents/Helmet/train' images and labels...4000 \u001b[0m\n",
      "\u001b[34m\u001b[1mtrain: \u001b[0mNew cache created: /home/islandz/Documents/Helmet/train.cache\n",
      "\u001b[34m\u001b[1mval: \u001b[0mScanning '/home/islandz/Documents/Helmet/valid' images and labels...500 fou\u001b[0m\n",
      "\u001b[34m\u001b[1mval: \u001b[0mNew cache created: /home/islandz/Documents/Helmet/valid.cache\n",
      "\n",
      "\u001b[34m\u001b[1mAutoAnchor: \u001b[0m5.85 anchors/target, 1.000 Best Possible Recall (BPR). Current anchors are a good fit to dataset ✅\n",
      "Plotting labels to runs/train/exp/labels.jpg... \n",
      "Image sizes 640 train, 640 val\n",
      "Using 8 dataloader workers\n",
      "Logging results to \u001b[1mruns/train/exp\u001b[0m\n",
      "Starting training for 20 epochs...\n",
      "\n",
      "      Epoch    GPU_mem   box_loss   obj_loss   cls_loss  Instances       Size\n",
      "       0/19        14G    0.08573    0.05388    0.02681        295        640: 1\n",
      "                 Class     Images  Instances          P          R      mAP50   \n",
      "                   all        500       2588      0.479      0.391       0.22     0.0675\n",
      "\n",
      "      Epoch    GPU_mem   box_loss   obj_loss   cls_loss  Instances       Size\n",
      "       1/19      17.6G     0.0634    0.04029    0.01827        193        640: 1\n",
      "                 Class     Images  Instances          P          R      mAP50   \n",
      "                   all        500       2588      0.507        0.4      0.197     0.0636\n",
      "\n",
      "      Epoch    GPU_mem   box_loss   obj_loss   cls_loss  Instances       Size\n",
      "       2/19      17.6G    0.05651    0.03742    0.00899        195        640: 1\n",
      "                 Class     Images  Instances          P          R      mAP50   \n",
      "                   all        500       2588      0.771      0.468      0.483      0.224\n",
      "\n",
      "      Epoch    GPU_mem   box_loss   obj_loss   cls_loss  Instances       Size\n",
      "       3/19      17.6G     0.0474    0.03582   0.006873        232        640: 1\n",
      "                 Class     Images  Instances          P          R      mAP50   \n",
      "                   all        500       2588      0.914      0.525      0.584      0.321\n",
      "\n",
      "      Epoch    GPU_mem   box_loss   obj_loss   cls_loss  Instances       Size\n",
      "       4/19      17.6G     0.0425    0.03479   0.005342        209        640: 1\n",
      "                 Class     Images  Instances          P          R      mAP50   \n",
      "                   all        500       2588      0.936      0.555      0.606      0.358\n",
      "\n",
      "      Epoch    GPU_mem   box_loss   obj_loss   cls_loss  Instances       Size\n",
      "       5/19      17.6G    0.03966    0.03388   0.004745        249        640: 1\n",
      "                 Class     Images  Instances          P          R      mAP50   \n",
      "                   all        500       2588      0.937      0.558      0.609      0.366\n",
      "\n",
      "      Epoch    GPU_mem   box_loss   obj_loss   cls_loss  Instances       Size\n",
      "       6/19      17.6G    0.03768    0.03286   0.004239        165        640: 1\n",
      "                 Class     Images  Instances          P          R      mAP50   \n",
      "                   all        500       2588      0.942       0.56       0.61       0.36\n",
      "\n",
      "      Epoch    GPU_mem   box_loss   obj_loss   cls_loss  Instances       Size\n"
     ]
    },
    {
     "name": "stdout",
     "output_type": "stream",
     "text": [
      "       7/19      17.6G    0.03633    0.03301   0.003945        236        640: 1\n",
      "                 Class     Images  Instances          P          R      mAP50   \n",
      "                   all        500       2588      0.946      0.569      0.615      0.377\n",
      "\n",
      "      Epoch    GPU_mem   box_loss   obj_loss   cls_loss  Instances       Size\n",
      "       8/19      17.6G    0.03515    0.03263   0.003705        288        640: 1\n",
      "                 Class     Images  Instances          P          R      mAP50   \n",
      "                   all        500       2588      0.934      0.567      0.612      0.369\n",
      "\n",
      "      Epoch    GPU_mem   box_loss   obj_loss   cls_loss  Instances       Size\n",
      "       9/19      17.6G    0.03396    0.03237   0.003394        185        640: 1\n",
      "                 Class     Images  Instances          P          R      mAP50   \n",
      "                   all        500       2588      0.947      0.578      0.619      0.386\n",
      "\n",
      "      Epoch    GPU_mem   box_loss   obj_loss   cls_loss  Instances       Size\n",
      "      10/19      17.6G    0.03315    0.03151   0.003133        195        640: 1\n",
      "                 Class     Images  Instances          P          R      mAP50   \n",
      "                   all        500       2588      0.611      0.626      0.625      0.391\n",
      "\n",
      "      Epoch    GPU_mem   box_loss   obj_loss   cls_loss  Instances       Size\n",
      "      11/19      17.6G    0.03204    0.03082   0.002743        205        640: 1\n",
      "                 Class     Images  Instances          P          R      mAP50   \n",
      "                   all        500       2588      0.636      0.613      0.633      0.387\n",
      "\n",
      "      Epoch    GPU_mem   box_loss   obj_loss   cls_loss  Instances       Size\n",
      "      12/19      17.6G    0.03149     0.0304     0.0028        220        640: 1\n",
      "                 Class     Images  Instances          P          R      mAP50   \n",
      "                   all        500       2588      0.948       0.59      0.626      0.401\n",
      "\n",
      "      Epoch    GPU_mem   box_loss   obj_loss   cls_loss  Instances       Size\n",
      "      13/19      17.6G    0.03072    0.02973    0.00263        201        640: 1\n",
      "                 Class     Images  Instances          P          R      mAP50   \n",
      "                   all        500       2588      0.951      0.574      0.618      0.398\n",
      "\n",
      "      Epoch    GPU_mem   box_loss   obj_loss   cls_loss  Instances       Size\n",
      "      14/19      17.6G    0.03061    0.02998   0.002431        238        640: 1\n",
      "                 Class     Images  Instances          P          R      mAP50   \n",
      "                   all        500       2588      0.617      0.586      0.621      0.403\n",
      "\n",
      "      Epoch    GPU_mem   box_loss   obj_loss   cls_loss  Instances       Size\n",
      "      15/19      17.6G    0.02987    0.02943   0.002362        271        640: 1\n",
      "                 Class     Images  Instances          P          R      mAP50   \n",
      "                   all        500       2588      0.611      0.592      0.627      0.402\n",
      "\n",
      "      Epoch    GPU_mem   box_loss   obj_loss   cls_loss  Instances       Size\n",
      "      16/19      17.6G    0.02938    0.02901   0.002197        227        640: 1\n",
      "                 Class     Images  Instances          P          R      mAP50   \n",
      "                   all        500       2588      0.619      0.605      0.626      0.404\n",
      "\n",
      "      Epoch    GPU_mem   box_loss   obj_loss   cls_loss  Instances       Size\n",
      "      17/19      17.6G    0.02946    0.02867    0.00198        232        640: 1\n",
      "                 Class     Images  Instances          P          R      mAP50   \n",
      "                   all        500       2588      0.619      0.594      0.626      0.409\n",
      "\n",
      "      Epoch    GPU_mem   box_loss   obj_loss   cls_loss  Instances       Size\n",
      "      18/19      17.6G    0.02878    0.02873   0.001908        227        640: 1\n",
      "                 Class     Images  Instances          P          R      mAP50   \n",
      "                   all        500       2588      0.626      0.587      0.625      0.408\n",
      "\n",
      "      Epoch    GPU_mem   box_loss   obj_loss   cls_loss  Instances       Size\n",
      "      19/19      17.6G    0.02853    0.02779   0.001988        257        640: 1\n",
      "                 Class     Images  Instances          P          R      mAP50   \n",
      "                   all        500       2588      0.623      0.587      0.626      0.413\n",
      "\n",
      "20 epochs completed in 0.097 hours.\n",
      "Optimizer stripped from runs/train/exp/weights/last.pt, 14.5MB\n",
      "Optimizer stripped from runs/train/exp/weights/best.pt, 14.5MB\n",
      "\n",
      "Validating runs/train/exp/weights/best.pt...\n",
      "Fusing layers... \n",
      "Model summary: 157 layers, 7018216 parameters, 0 gradients, 15.8 GFLOPs\n",
      "                 Class     Images  Instances          P          R      mAP50   \n",
      "                   all        500       2588      0.623      0.588      0.626      0.413\n",
      "                helmet        500       1749      0.956        0.9      0.961      0.633\n",
      "                  head        500        766      0.913      0.863      0.915      0.605\n",
      "                person        500         73          0          0     0.0027    0.00136\n",
      "Results saved to \u001b[1mruns/train/exp\u001b[0m\n"
     ]
    }
   ],
   "source": [
    "!python train.py --img 640 --batch 64 --epochs 20 --data /home/islandz/Documents/Helmet/helmet.yaml --device 0 --weights yolov5s.pt"
   ]
  },
  {
   "cell_type": "code",
   "execution_count": 18,
   "metadata": {},
   "outputs": [
    {
     "name": "stdout",
     "output_type": "stream",
     "text": [
      "\u001b[34m\u001b[1mval: \u001b[0mdata=/home/islandz/Documents/Helmet/helmet.yaml, weights=['/home/islandz/Documents/Helmet/yolov5/runs/train/exp/weights/best.pt'], batch_size=32, imgsz=640, conf_thres=0.001, iou_thres=0.6, max_det=300, task=test, device=0, workers=8, single_cls=False, augment=False, verbose=False, save_txt=True, save_hybrid=False, save_conf=False, save_json=False, project=runs/val, name=exp, exist_ok=False, half=False, dnn=False\n",
      "YOLOv5 🚀 v6.2-224-g82a5585 Python-3.9.13 torch-1.12.1 CUDA:0 (NVIDIA GeForce RTX 3090 Ti, 24248MiB)\n",
      "\n",
      "Fusing layers... \n",
      "Model summary: 157 layers, 7018216 parameters, 0 gradients, 15.8 GFLOPs\n",
      "\u001b[34m\u001b[1mtest: \u001b[0mScanning '/home/islandz/Documents/Helmet/test' images and labels...500 fou\u001b[0m\n",
      "\u001b[34m\u001b[1mtest: \u001b[0mNew cache created: /home/islandz/Documents/Helmet/test.cache\n",
      "                 Class     Images  Instances          P          R      mAP50   \n",
      "                   all        500       2796      0.621      0.611      0.634      0.419\n",
      "                helmet        500       2026      0.926      0.913      0.958      0.625\n",
      "                  head        500        664      0.877       0.91      0.937      0.628\n",
      "                person        500        106     0.0614    0.00943    0.00748     0.0031\n",
      "Speed: 0.1ms pre-process, 1.6ms inference, 0.5ms NMS per image at shape (32, 3, 640, 640)\n",
      "Results saved to \u001b[1mruns/val/exp\u001b[0m\n",
      "500 labels saved to runs/val/exp/labels\n"
     ]
    }
   ],
   "source": [
    "!python val.py --task \"test\" --data /home/islandz/Documents/Helmet/helmet.yaml --weights /home/islandz/Documents/Helmet/yolov5/runs/train/exp/weights/best.pt --device 0 --save-txt"
   ]
  },
  {
   "cell_type": "code",
   "execution_count": null,
   "metadata": {},
   "outputs": [],
   "source": []
  }
 ],
 "metadata": {
  "kernelspec": {
   "display_name": "pytorch",
   "language": "python",
   "name": "pytorch"
  },
  "language_info": {
   "codemirror_mode": {
    "name": "ipython",
    "version": 3
   },
   "file_extension": ".py",
   "mimetype": "text/x-python",
   "name": "python",
   "nbconvert_exporter": "python",
   "pygments_lexer": "ipython3",
   "version": "3.9.13"
  }
 },
 "nbformat": 4,
 "nbformat_minor": 2
}
